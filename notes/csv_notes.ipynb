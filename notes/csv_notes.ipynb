{
 "cells": [
  {
   "cell_type": "code",
   "execution_count": 1,
   "metadata": {},
   "outputs": [],
   "source": [
    "import os\n",
    "import glob"
   ]
  },
  {
   "cell_type": "code",
   "execution_count": 2,
   "metadata": {},
   "outputs": [],
   "source": [
    "ABS_PATH = os.path.dirname(os.path.abspath(os.getcwd()))\n",
    "DATASETS_PATH = os.path.join(ABS_PATH, \"datasets\")\n",
    "all_csv_datasets = glob.glob(f'{DATASETS_PATH}/*.csv')"
   ]
  },
  {
   "cell_type": "code",
   "execution_count": 3,
   "metadata": {},
   "outputs": [
    {
     "data": {
      "text/plain": [
       "['/Users/thabangz/Projects/ninety-one/datasets/TestData.csv']"
      ]
     },
     "execution_count": 3,
     "metadata": {},
     "output_type": "execute_result"
    }
   ],
   "source": [
    "all_csv_datasets"
   ]
  },
  {
   "cell_type": "code",
   "execution_count": 5,
   "metadata": {},
   "outputs": [],
   "source": [
    "testDataFile = all_csv_datasets[0]"
   ]
  },
  {
   "cell_type": "code",
   "execution_count": 6,
   "metadata": {},
   "outputs": [],
   "source": [
    "with open(testDataFile) as file:\n",
    "    fileContents = file.read()"
   ]
  },
  {
   "cell_type": "code",
   "execution_count": 7,
   "metadata": {},
   "outputs": [
    {
     "data": {
      "text/plain": [
       "'First Name,Second Name,Score\\nDee,Moore,56\\nSipho,Lolo,78\\nNoosrat,Hoosain,64\\nGeorge,Of The Jungle,78\\n'"
      ]
     },
     "execution_count": 7,
     "metadata": {},
     "output_type": "execute_result"
    }
   ],
   "source": [
    "fileContents"
   ]
  },
  {
   "cell_type": "code",
   "execution_count": 9,
   "metadata": {},
   "outputs": [],
   "source": [
    "csvContents = fileContents.split(\"\\n\")"
   ]
  },
  {
   "cell_type": "code",
   "execution_count": 10,
   "metadata": {},
   "outputs": [
    {
     "data": {
      "text/plain": [
       "['First Name,Second Name,Score',\n",
       " 'Dee,Moore,56',\n",
       " 'Sipho,Lolo,78',\n",
       " 'Noosrat,Hoosain,64',\n",
       " 'George,Of The Jungle,78',\n",
       " '']"
      ]
     },
     "execution_count": 10,
     "metadata": {},
     "output_type": "execute_result"
    }
   ],
   "source": [
    "csvContents"
   ]
  },
  {
   "cell_type": "code",
   "execution_count": 15,
   "metadata": {},
   "outputs": [],
   "source": [
    "expectedColumns = 0\n",
    "headingProcessed = False\n",
    "blueprintStructSet = False\n",
    "blueprintStruct = {}\n",
    "\n",
    "processedHeadings = []\n",
    "processedData = []\n",
    "\n",
    "for line in csvContents:\n",
    "    if not headingProcessed:\n",
    "        headings = line.split(\",\")\n",
    "        expectedColumns = len(headings)\n",
    "    \n",
    "        if expectedColumns > 0:\n",
    "            headingProcessed = True\n",
    "    \n",
    "    if headingProcessed and not blueprintStructSet:\n",
    "        for heading in headings:\n",
    "            heading = heading.strip()\n",
    "            if heading:\n",
    "                processedHeadings.append(heading)\n",
    "                blueprintStruct[heading] = None\n",
    "\n",
    "        cleanedHeadings = list(blueprintStruct.keys())\n",
    "        if len(cleanedHeadings) > 0:\n",
    "            expectedColumns = len(cleanedHeadings)\n",
    "            blueprintStructSet = True\n",
    "            continue\n",
    "    \n",
    "    if blueprintStructSet:\n",
    "        data = blueprintStruct.copy()\n",
    "        row = line.split(\",\")\n",
    "\n",
    "        if len(row) == expectedColumns:\n",
    "            for idx, dictKey in enumerate(processedHeadings):\n",
    "                data[dictKey] = row[idx]\n",
    "        \n",
    "            processedData.append(data)\n",
    "        \n",
    "    \n",
    "\n",
    "        "
   ]
  },
  {
   "cell_type": "code",
   "execution_count": 16,
   "metadata": {},
   "outputs": [
    {
     "data": {
      "text/plain": [
       "[{'First Name': 'Dee', 'Second Name': 'Moore', 'Score': '56'},\n",
       " {'First Name': 'Sipho', 'Second Name': 'Lolo', 'Score': '78'},\n",
       " {'First Name': 'Noosrat', 'Second Name': 'Hoosain', 'Score': '64'},\n",
       " {'First Name': 'George', 'Second Name': 'Of The Jungle', 'Score': '78'}]"
      ]
     },
     "execution_count": 16,
     "metadata": {},
     "output_type": "execute_result"
    }
   ],
   "source": [
    "processedData"
   ]
  },
  {
   "cell_type": "code",
   "execution_count": null,
   "metadata": {},
   "outputs": [],
   "source": []
  }
 ],
 "metadata": {
  "kernelspec": {
   "display_name": ".venv",
   "language": "python",
   "name": "python3"
  },
  "language_info": {
   "codemirror_mode": {
    "name": "ipython",
    "version": 3
   },
   "file_extension": ".py",
   "mimetype": "text/x-python",
   "name": "python",
   "nbconvert_exporter": "python",
   "pygments_lexer": "ipython3",
   "version": "3.10.9"
  },
  "orig_nbformat": 4
 },
 "nbformat": 4,
 "nbformat_minor": 2
}
